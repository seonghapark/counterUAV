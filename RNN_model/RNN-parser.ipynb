{
 "cells": [
  {
   "cell_type": "code",
   "execution_count": 1,
   "metadata": {},
   "outputs": [],
   "source": [
    "import os\n",
    "import numpy as np"
   ]
  },
  {
   "cell_type": "code",
   "execution_count": 2,
   "metadata": {},
   "outputs": [],
   "source": [
    "path_dir = 'C://rnn_data' \n",
    "file_list = os.listdir(path_dir) \n",
    "# 20181016_135027_binary.txt 삭제 (no data)"
   ]
  },
  {
   "cell_type": "code",
   "execution_count": 3,
   "metadata": {},
   "outputs": [
    {
     "data": {
      "text/plain": [
       "['20181009_100023_binary.txt',\n",
       " '20181009_101055_binary.txt',\n",
       " '20181009_101420_binary.txt',\n",
       " '20181009_101635_binary.txt',\n",
       " '20181009_102248_binary.txt',\n",
       " '20181009_102508_binary.txt',\n",
       " '20181009_102849_binary.txt',\n",
       " '20181009_103752_binary.txt',\n",
       " '20181009_104216_binary.txt',\n",
       " '20181009_104446_binary.txt',\n",
       " '20181009_105554_binary.txt',\n",
       " '20181009_110458_binary.txt',\n",
       " '20181009_110901_binary.txt',\n",
       " '20181009_111450_binary.txt',\n",
       " '20181009_111734_binary.txt',\n",
       " '20181016_134334_binary.txt',\n",
       " '20181016_134532_binary.txt',\n",
       " '20181016_135124_binary.txt',\n",
       " '20181016_142025_binary.txt',\n",
       " '20181016_142531_binary.txt',\n",
       " '20181114_135427_binary.txt',\n",
       " '20181114_140400_binary.txt',\n",
       " '20181114_141258_binary.txt',\n",
       " '20181114_142450_binary.txt',\n",
       " '20181114_175502_binary.txt',\n",
       " '20181114_180324_binary.txt',\n",
       " '20181114_181316_binary.txt',\n",
       " 'rnn_label.txt']"
      ]
     },
     "execution_count": 3,
     "metadata": {},
     "output_type": "execute_result"
    }
   ],
   "source": [
    "file_list"
   ]
  },
  {
   "cell_type": "code",
   "execution_count": 4,
   "metadata": {},
   "outputs": [
    {
     "data": {
      "text/plain": [
       "28"
      ]
     },
     "execution_count": 4,
     "metadata": {},
     "output_type": "execute_result"
    }
   ],
   "source": [
    "len(file_list)"
   ]
  },
  {
   "cell_type": "code",
   "execution_count": 5,
   "metadata": {},
   "outputs": [],
   "source": [
    "def parse(raw_data):\n",
    "    data = bytearray(raw_data)\n",
    "       # print(len(data))\n",
    "       # parse the sync and data signal in bytearray\n",
    "    if len(data) < 2:\n",
    "        return None, None\n",
    "    if (data[0] >> 6) > 0: # '11'로 시작하는 데이터 일 때, 맨 앞의 데이터 삭제\n",
    "        del data[:1]\n",
    "    if len(data) % 2 == 1: # 전체 데이터 개수가 홀수인 경우\n",
    "        del data[-1:]\n",
    "\n",
    "    values = []\n",
    "    sync = []\n",
    "    for index in range(0, len(data), 2):\n",
    "        if (data[index] >> 6) > 0 and index+2 <len(data): #내가 추가한 코드\n",
    "            index_2 = index + 1\n",
    "        else:\n",
    "            index_2 = index\n",
    "        high = data[index_2] & 0x1F\n",
    "        low = data[index_2 + 1] & 0x1F\n",
    "        values.append(high << 5 | low) \n",
    "        sync.append(True if (data[index_2] >> 5) == 1 else False)\n",
    "\n",
    "    sync = sync #sync = np.array(sync)\n",
    "    data = values #data = np.array(values)\n",
    "        \n",
    "    # print(self.sync, self.data, len(self.sync), len(self.data))\n",
    "    return sync, data"
   ]
  },
  {
   "cell_type": "code",
   "execution_count": 6,
   "metadata": {},
   "outputs": [
    {
     "name": "stdout",
     "output_type": "stream",
     "text": [
      "raw data - > data list, sync list\n",
      "1 번째 파일 완료\n",
      "2 번째 파일 완료\n",
      "3 번째 파일 완료\n",
      "4 번째 파일 완료\n",
      "5 번째 파일 완료\n",
      "6 번째 파일 완료\n",
      "7 번째 파일 완료\n",
      "8 번째 파일 완료\n",
      "9 번째 파일 완료\n",
      "10 번째 파일 완료\n",
      "11 번째 파일 완료\n",
      "12 번째 파일 완료\n",
      "13 번째 파일 완료\n",
      "14 번째 파일 완료\n",
      "15 번째 파일 완료\n",
      "16 번째 파일 완료\n",
      "17 번째 파일 완료\n",
      "18 번째 파일 완료\n",
      "19 번째 파일 완료\n",
      "20 번째 파일 완료\n",
      "21 번째 파일 완료\n",
      "22 번째 파일 완료\n",
      "23 번째 파일 완료\n",
      "24 번째 파일 완료\n",
      "25 번째 파일 완료\n",
      "26 번째 파일 완료\n",
      "27 번째 파일 완료\n"
     ]
    }
   ],
   "source": [
    "sync_list = [] # 모든 파일들의 싱크 정보 리스트\n",
    "data_list = [] # 모든 파일들의 데이터 정보 리스트\n",
    "print('raw data - > data list, sync list')\n",
    "for i in range(len(file_list) - 1):\n",
    "    src_path = path_dir + '/' + file_list[i]\n",
    "    data_file = open(src_path, \"rb\")\n",
    "    read_data = data_file.read()\n",
    "    sync, data = parse(read_data)\n",
    "    sync_list.append(sync)\n",
    "    data_list.append(data)\n",
    "    print(i + 1, '번째 파일 완료')"
   ]
  },
  {
   "cell_type": "code",
   "execution_count": 7,
   "metadata": {
    "scrolled": false
   },
   "outputs": [
    {
     "name": "stdout",
     "output_type": "stream",
     "text": [
      "1 True count: 896904\n",
      "1 False count: 891006\n",
      "\n",
      "2 True count: 346619\n",
      "2 False count: 415441\n",
      "\n",
      "3 True count: 238071\n",
      "3 False count: 236751\n",
      "\n",
      "4 True count: 279501\n",
      "4 False count: 277389\n",
      "\n",
      "5 True count: 209256\n",
      "5 False count: 330047\n",
      "\n",
      "6 True count: 229316\n",
      "6 False count: 227920\n",
      "\n",
      "7 True count: 235488\n",
      "7 False count: 233472\n",
      "\n",
      "8 True count: 343957\n",
      "8 False count: 341897\n",
      "\n",
      "9 True count: 285129\n",
      "9 False count: 283485\n",
      "\n",
      "10 True count: 305603\n",
      "10 False count: 304045\n",
      "\n",
      "11 True count: 291238\n",
      "11 False count: 289100\n",
      "\n",
      "12 True count: 438147\n",
      "12 False count: 435291\n",
      "\n",
      "13 True count: 244121\n",
      "13 False count: 312769\n",
      "\n",
      "14 True count: 238248\n",
      "14 False count: 236574\n",
      "\n",
      "15 True count: 405666\n",
      "15 False count: 403289\n",
      "\n",
      "16 True count: 120993\n",
      "16 False count: 119349\n",
      "\n",
      "17 True count: 537251\n",
      "17 False count: 530759\n",
      "\n",
      "18 True count: 324563\n",
      "18 False count: 320257\n",
      "\n",
      "19 True count: 337077\n",
      "19 False count: 372224\n",
      "\n",
      "20 True count: 268558\n",
      "20 False count: 264884\n",
      "\n",
      "21 True count: 985626\n",
      "21 False count: 972282\n",
      "\n",
      "22 True count: 1271793\n",
      "22 False count: 1254729\n",
      "\n",
      "23 True count: 958427\n",
      "23 False count: 946723\n",
      "\n",
      "24 True count: 695934\n",
      "24 False count: 687498\n",
      "\n",
      "25 True count: 1012463\n",
      "25 False count: 998203\n",
      "\n",
      "26 True count: 760867\n",
      "26 False count: 751529\n",
      "\n",
      "27 True count: 914200\n",
      "27 False count: 903019\n",
      "\n"
     ]
    }
   ],
   "source": [
    "for index in range(len(file_list) - 1):\n",
    "    print(index+1, 'True count:', sync_list[index].count(True))\n",
    "    print(index+1, 'False count:', sync_list[index].count(False))\n",
    "    print(\"\")"
   ]
  },
  {
   "cell_type": "code",
   "execution_count": 8,
   "metadata": {},
   "outputs": [
    {
     "data": {
      "text/plain": [
       "539303"
      ]
     },
     "execution_count": 8,
     "metadata": {},
     "output_type": "execute_result"
    }
   ],
   "source": [
    "len(data_list[4])"
   ]
  },
  {
   "cell_type": "code",
   "execution_count": 9,
   "metadata": {
    "scrolled": false
   },
   "outputs": [
    {
     "name": "stdout",
     "output_type": "stream",
     "text": [
      "1 번째 파일 완료, 길이: 306 초 (20181009_100023_binary.txt)\n",
      "2 번째 파일 완료, 길이: 118 초 (20181009_101055_binary.txt)\n",
      "3 번째 파일 완료, 길이: 81 초 (20181009_101420_binary.txt)\n",
      "4 번째 파일 완료, 길이: 95 초 (20181009_101635_binary.txt)\n",
      "5 번째 파일 완료, 길이: 71 초 (20181009_102248_binary.txt)\n",
      "6 번째 파일 완료, 길이: 78 초 (20181009_102508_binary.txt)\n",
      "7 번째 파일 완료, 길이: 80 초 (20181009_102849_binary.txt)\n",
      "8 번째 파일 완료, 길이: 117 초 (20181009_103752_binary.txt)\n",
      "9 번째 파일 완료, 길이: 97 초 (20181009_104216_binary.txt)\n",
      "10 번째 파일 완료, 길이: 104 초 (20181009_104446_binary.txt)\n",
      "11 번째 파일 완료, 길이: 99 초 (20181009_105554_binary.txt)\n",
      "12 번째 파일 완료, 길이: 149 초 (20181009_110458_binary.txt)\n",
      "13 번째 파일 완료, 길이: 83 초 (20181009_110901_binary.txt)\n",
      "14 번째 파일 완료, 길이: 81 초 (20181009_111450_binary.txt)\n",
      "15 번째 파일 완료, 길이: 138 초 (20181009_111734_binary.txt)\n",
      "16 번째 파일 완료, 길이: 41 초 (20181016_134334_binary.txt)\n",
      "17 번째 파일 완료, 길이: 183 초 (20181016_134532_binary.txt)\n",
      "18 번째 파일 완료, 길이: 110 초 (20181016_135124_binary.txt)\n",
      "19 번째 파일 완료, 길이: 115 초 (20181016_142025_binary.txt)\n",
      "20 번째 파일 완료, 길이: 91 초 (20181016_142531_binary.txt)\n",
      "21 번째 파일 완료, 길이: 336 초 (20181114_135427_binary.txt)\n",
      "22 번째 파일 완료, 길이: 433 초 (20181114_140400_binary.txt)\n",
      "23 번째 파일 완료, 길이: 326 초 (20181114_141258_binary.txt)\n",
      "24 번째 파일 완료, 길이: 237 초 (20181114_142450_binary.txt)\n",
      "25 번째 파일 완료, 길이: 345 초 (20181114_175502_binary.txt)\n",
      "26 번째 파일 완료, 길이: 259 초 (20181114_180324_binary.txt)\n",
      "27 번째 파일 완료, 길이: 311 초 (20181114_181316_binary.txt)\n"
     ]
    }
   ],
   "source": [
    "data_list_seconds = [] # 모든 파일들의 데이터 정보(초단위)\n",
    "for i in range(len(file_list) - 1):\n",
    "    sync = sync_list[i]\n",
    "    data = data_list[i]\n",
    "\n",
    "    true_data  = []\n",
    "    temp_d = []\n",
    "    count = 0\n",
    "    \n",
    "    for index, tf_value in enumerate(sync):\n",
    "        if tf_value == True:\n",
    "            count += 1\n",
    "            temp_d.append(data[index])\n",
    "            if count == 2931:\n",
    "                true_data.append(temp_d)\n",
    "                count = 0\n",
    "                temp_d = []\n",
    "    \n",
    "    data_list_seconds.append(true_data)\n",
    "    print(i + 1, '번째 파일 완료, 길이:' ,len(data_list_seconds[i]),'초', end='')\n",
    "    print(' ('+file_list[i]+')')\n",
    "    \n",
    "#앞의 리스트는 프리해줘도 좋음"
   ]
  },
  {
   "cell_type": "code",
   "execution_count": 10,
   "metadata": {},
   "outputs": [
    {
     "data": {
      "text/plain": [
       "71"
      ]
     },
     "execution_count": 10,
     "metadata": {},
     "output_type": "execute_result"
    }
   ],
   "source": [
    "len(data_list_seconds[4])"
   ]
  },
  {
   "cell_type": "code",
   "execution_count": 11,
   "metadata": {},
   "outputs": [],
   "source": [
    "label_path_dir = path_dir + '/' + 'rnn_label.txt'\n",
    "label_file = open(label_path_dir, 'r')"
   ]
  },
  {
   "cell_type": "code",
   "execution_count": 12,
   "metadata": {},
   "outputs": [],
   "source": [
    "label_lines = label_file.readlines()"
   ]
  },
  {
   "cell_type": "code",
   "execution_count": 13,
   "metadata": {},
   "outputs": [
    {
     "data": {
      "text/plain": [
       "27"
      ]
     },
     "execution_count": 13,
     "metadata": {},
     "output_type": "execute_result"
    }
   ],
   "source": [
    "len(label_lines)"
   ]
  },
  {
   "cell_type": "code",
   "execution_count": 14,
   "metadata": {},
   "outputs": [
    {
     "data": {
      "text/plain": [
       "['20181009_100023_binary.txt: w/ a person (15~28, 28~36, 151~162, 164~174, 237~253, 257~270)\\n',\n",
       " '20181009_101055_binary.txt: w/ a person (38~70, 84~110)\\n',\n",
       " '20181009_101420_binary.txt: w/ a person (18~36, 53~69)\\n',\n",
       " '20181009_101635_binary.txt: w/ a person, w/ an iron plate (20~52, 62~83)\\n',\n",
       " '20181009_102248_binary.txt: w/ a car (42~58)\\n',\n",
       " '20181009_102508_binary.txt: w/ a car (28~36, 57~59)\\n',\n",
       " '20181009_102849_binary.txt: w/ a car (25~32, 51~57)\\n',\n",
       " '20181009_103752_binary.txt: w/ a person, w/ an iron plate (19~69, 69~107)\\n',\n",
       " '20181009_104216_binary.txt: w/ a person, w/ an iron plate (8~47, 58~92)\\n',\n",
       " '20181009_104446_binary.txt: w/ a person, w/ an iron plate (first), w/o the iron plate (second) (10~31, 41~57, 59~76, 85~98)\\n',\n",
       " '20181009_105554_binary.txt: w/ a person (21~26, 26~30, 38~65, 65~92)\\n',\n",
       " '20181009_110458_binary.txt: w/ a drone (DJI Phantom), w/o reflection tape (1~9, 36~47, 62~87, 106~115)\\n',\n",
       " '20181009_110901_binary.txt: w/ a drone (DJI Phantom), w/o reflection tape (5~16, 36~43, 46~49, 68~76)\\n',\n",
       " '20181009_111450_binary.txt: w/ a drone (DJI Phantom), w/ reflection tape (15~22, 44~49)\\n',\n",
       " '20181009_111734_binary.txt: w/ a drone (DJI Phantom), w/ reflection tape (27~37, 42~50, 71~80, 100~110)\\n',\n",
       " '20181016_134334_binary.txt: background noise, a person at 5 sec (36~41)\\n',\n",
       " '20181016_134532_binary.txt: w/ a car (39~58, 84~103, 138~147, 166~174)\\n',\n",
       " '20181016_135124_binary.txt: w/ a person (6~30, 38~62, 64~80, 85~98)\\n',\n",
       " '20181016_142025_binary.txt: from 35 second, w/ a drone (DJI Phantom), w/ reflection tape (11~16, 16~21, 39~52, 68~74, 78~84)\\n',\n",
       " '20181016_142531_binary.txt: w/ a drone (DJI Phantom), w/o reflection tape (22~27, 80~84)\\n',\n",
       " '20181114_135427_binary.txt: w/ a person ~30m*\\n',\n",
       " '20181114_140400_binary.txt: w/ a car ~40m ~5mi/h (0~16, 40~57, 71~86, 117~135, 159~182, 196~218, 321~341, 373~381)\\n',\n",
       " '20181114_141258_binary.txt: w/ a car ~40m ~10mi/h (0~13, 31~41, 70~81, 99~107, 127~141, 157~169, 192~201, 219~231, 255~268, 284~294)\\n',\n",
       " '20181114_142450_binary.txt: w/ a drone ~30m (18~23, 44~46, 65~70, 86~96, 128~136, 159~165, 234~236)\\n',\n",
       " '20181114_175502_binary.txt: w/ a person ~30m (13~38, 78~98, 123~142, 166~170, 188~197, 227~231, 233~244, 304~322)\\n',\n",
       " '20181114_180324_binary.txt: w/ a car ~40m (8~15, 46~60, 82~97, 123~129, 156~173, 201~224)\\n',\n",
       " '20181114_181316_binary.txt: w/ a drone ~15m*\\n']"
      ]
     },
     "execution_count": 14,
     "metadata": {},
     "output_type": "execute_result"
    }
   ],
   "source": [
    "label_lines"
   ]
  },
  {
   "cell_type": "code",
   "execution_count": 15,
   "metadata": {},
   "outputs": [
    {
     "name": "stdout",
     "output_type": "stream",
     "text": [
      "20181009_100023_binary.txt: w/ a person (15~28, 28~36, 151~162, 164~174, 237~253, 257~270)\n",
      "person\n",
      "['15~28', '28~36', '151~162', '164~174', '237~253', '257~270']\n",
      "\n",
      "20181009_101055_binary.txt: w/ a person (38~70, 84~110)\n",
      "person\n",
      "['38~70', '84~110']\n",
      "\n",
      "20181009_101420_binary.txt: w/ a person (18~36, 53~69)\n",
      "person\n",
      "['18~36', '53~69']\n",
      "\n",
      "20181009_101635_binary.txt: w/ a person, w/ an iron plate (20~52, 62~83)\n",
      "person\n",
      "['20~52', '62~83']\n",
      "\n",
      "20181009_102248_binary.txt: w/ a car (42~58)\n",
      "car\n",
      "['42~58']\n",
      "\n",
      "20181009_102508_binary.txt: w/ a car (28~36, 57~59)\n",
      "car\n",
      "['28~36', '57~59']\n",
      "\n",
      "20181009_102849_binary.txt: w/ a car (25~32, 51~57)\n",
      "car\n",
      "['25~32', '51~57']\n",
      "\n",
      "20181009_103752_binary.txt: w/ a person, w/ an iron plate (19~69, 69~107)\n",
      "person\n",
      "['19~69', '69~107']\n",
      "\n",
      "20181009_104216_binary.txt: w/ a person, w/ an iron plate (8~47, 58~92)\n",
      "person\n",
      "['8~47', '58~92']\n",
      "\n",
      "20181009_104446_binary.txt: w/ a person, w/ an iron plate (first), w/o the iron plate (second) (10~31, 41~57, 59~76, 85~98)\n",
      "person\n",
      "['10~31', '41~57', '59~76', '85~98']\n",
      "\n",
      "20181009_105554_binary.txt: w/ a person (21~26, 26~30, 38~65, 65~92)\n",
      "person\n",
      "['21~26', '26~30', '38~65', '65~92']\n",
      "\n",
      "20181009_110458_binary.txt: w/ a drone (DJI Phantom), w/o reflection tape (1~9, 36~47, 62~87, 106~115)\n",
      "drone\n",
      "['1~9', '36~47', '62~87', '106~115']\n",
      "\n",
      "20181009_110901_binary.txt: w/ a drone (DJI Phantom), w/o reflection tape (5~16, 36~43, 46~49, 68~76)\n",
      "drone\n",
      "['5~16', '36~43', '46~49', '68~76']\n",
      "\n",
      "20181009_111450_binary.txt: w/ a drone (DJI Phantom), w/ reflection tape (15~22, 44~49)\n",
      "drone\n",
      "['15~22', '44~49']\n",
      "\n",
      "20181009_111734_binary.txt: w/ a drone (DJI Phantom), w/ reflection tape (27~37, 42~50, 71~80, 100~110)\n",
      "drone\n",
      "['27~37', '42~50', '71~80', '100~110']\n",
      "\n",
      "20181016_134334_binary.txt: background noise, a person at 5 sec (36~41)\n",
      "person\n",
      "['36~41']\n",
      "\n",
      "20181016_134532_binary.txt: w/ a car (39~58, 84~103, 138~147, 166~174)\n",
      "car\n",
      "['39~58', '84~103', '138~147', '166~174']\n",
      "\n",
      "20181016_135124_binary.txt: w/ a person (6~30, 38~62, 64~80, 85~98)\n",
      "person\n",
      "['6~30', '38~62', '64~80', '85~98']\n",
      "\n",
      "20181016_142025_binary.txt: from 35 second, w/ a drone (DJI Phantom), w/ reflection tape (11~16, 16~21, 39~52, 68~74, 78~84)\n",
      "drone\n",
      "['11~16', '16~21', '39~52', '68~74', '78~84']\n",
      "\n",
      "20181016_142531_binary.txt: w/ a drone (DJI Phantom), w/o reflection tape (22~27, 80~84)\n",
      "drone\n",
      "['22~27', '80~84']\n",
      "\n",
      "20181114_135427_binary.txt: w/ a person ~30m*\n",
      "person\n",
      "전구간\n",
      "\n",
      "20181114_140400_binary.txt: w/ a car ~40m ~5mi/h (0~16, 40~57, 71~86, 117~135, 159~182, 196~218, 321~341, 373~381)\n",
      "car\n",
      "['0~16', '40~57', '71~86', '117~135', '159~182', '196~218', '321~341', '373~381']\n",
      "\n",
      "20181114_141258_binary.txt: w/ a car ~40m ~10mi/h (0~13, 31~41, 70~81, 99~107, 127~141, 157~169, 192~201, 219~231, 255~268, 284~294)\n",
      "car\n",
      "['0~13', '31~41', '70~81', '99~107', '127~141', '157~169', '192~201', '219~231', '255~268', '284~294']\n",
      "\n",
      "20181114_142450_binary.txt: w/ a drone ~30m (18~23, 44~46, 65~70, 86~96, 128~136, 159~165, 234~236)\n",
      "drone\n",
      "['18~23', '44~46', '65~70', '86~96', '128~136', '159~165', '234~236']\n",
      "\n",
      "20181114_175502_binary.txt: w/ a person ~30m (13~38, 78~98, 123~142, 166~170, 188~197, 227~231, 233~244, 304~322)\n",
      "person\n",
      "['13~38', '78~98', '123~142', '166~170', '188~197', '227~231', '233~244', '304~322']\n",
      "\n",
      "20181114_180324_binary.txt: w/ a car ~40m (8~15, 46~60, 82~97, 123~129, 156~173, 201~224)\n",
      "car\n",
      "['8~15', '46~60', '82~97', '123~129', '156~173', '201~224']\n",
      "\n",
      "20181114_181316_binary.txt: w/ a drone ~15m*\n",
      "drone\n",
      "전구간\n",
      "\n"
     ]
    }
   ],
   "source": [
    "for line in label_lines: #파일 제일 마지막에 엔터 키 필요\n",
    "    print(line, end='')\n",
    "    print(line.split(\" a \")[1].split(\" \")[0].replace(\",\", \"\")) # person, car ,drone 분류 코드\n",
    "    if line.count('(') == 0:\n",
    "        print('전구간')\n",
    "    else:\n",
    "        print(line.split(\"(\")[line.count('(')].split(\")\")[0].split(\", \")) # 시간 부분만 추출\n",
    "    print(\"\")"
   ]
  },
  {
   "cell_type": "code",
   "execution_count": null,
   "metadata": {},
   "outputs": [],
   "source": []
  },
  {
   "cell_type": "code",
   "execution_count": null,
   "metadata": {},
   "outputs": [],
   "source": []
  },
  {
   "cell_type": "code",
   "execution_count": null,
   "metadata": {},
   "outputs": [],
   "source": []
  }
 ],
 "metadata": {
  "kernelspec": {
   "display_name": "Python 3",
   "language": "python",
   "name": "python3"
  },
  "language_info": {
   "codemirror_mode": {
    "name": "ipython",
    "version": 3
   },
   "file_extension": ".py",
   "mimetype": "text/x-python",
   "name": "python",
   "nbconvert_exporter": "python",
   "pygments_lexer": "ipython3",
   "version": "3.6.8"
  }
 },
 "nbformat": 4,
 "nbformat_minor": 2
}
