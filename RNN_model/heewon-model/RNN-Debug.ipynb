{
 "cells": [
  {
   "cell_type": "code",
   "execution_count": 2,
   "metadata": {},
   "outputs": [],
   "source": [
    "import os\n",
    "import numpy as np\n",
    "import random\n",
    "\n",
    "path_dir = 'C://rnn_data' \n",
    "file_list = os.listdir(path_dir) \n",
    "# 20181016_135027_binary.txt 삭제 (no data)"
   ]
  },
  {
   "cell_type": "code",
   "execution_count": 3,
   "metadata": {},
   "outputs": [
    {
     "data": {
      "text/plain": [
       "['20181009_100023_binary.txt',\n",
       " '20181009_101055_binary.txt',\n",
       " '20181009_101420_binary.txt',\n",
       " '20181009_101635_binary.txt',\n",
       " '20181009_102248_binary.txt',\n",
       " '20181009_102508_binary.txt',\n",
       " '20181009_102849_binary.txt',\n",
       " '20181009_103752_binary.txt',\n",
       " '20181009_104216_binary.txt',\n",
       " '20181009_104446_binary.txt',\n",
       " '20181009_105554_binary.txt',\n",
       " '20181009_110458_binary.txt',\n",
       " '20181009_110901_binary.txt',\n",
       " '20181009_111450_binary.txt',\n",
       " '20181009_111734_binary.txt',\n",
       " '20181016_134334_binary.txt',\n",
       " '20181016_134532_binary.txt',\n",
       " '20181016_135124_binary.txt',\n",
       " '20181016_142025_binary.txt',\n",
       " '20181016_142531_binary.txt',\n",
       " '20181114_135427_binary.txt',\n",
       " '20181114_140400_binary.txt',\n",
       " '20181114_141258_binary.txt',\n",
       " '20181114_142450_binary.txt',\n",
       " '20181114_175502_binary.txt',\n",
       " '20181114_180324_binary.txt',\n",
       " '20181114_181316_binary.txt',\n",
       " 'rnn_label.txt']"
      ]
     },
     "execution_count": 3,
     "metadata": {},
     "output_type": "execute_result"
    }
   ],
   "source": [
    "file_list"
   ]
  },
  {
   "cell_type": "code",
   "execution_count": 4,
   "metadata": {},
   "outputs": [],
   "source": [
    "def parse(raw_data):\n",
    "    data = bytearray(raw_data)\n",
    "       # print(len(data))\n",
    "       # parse the sync and data signal in bytearray\n",
    "    if len(data) < 2:\n",
    "        return None, None\n",
    "    if (data[0] >> 6) > 0: # '11'로 시작하는 데이터 일 때, 맨 앞의 데이터 삭제\n",
    "        del data[:1]\n",
    "    if len(data) % 2 == 1: # 전체 데이터 개수가 홀수인 경우\n",
    "        del data[-1:]\n",
    "\n",
    "    values = []\n",
    "    sync = []\n",
    "    for index in range(0, len(data), 2):\n",
    "        if (data[index] >> 6) > 0 and index+2 <len(data): #내가 추가한 코드\n",
    "            index_2 = index + 1\n",
    "        else:\n",
    "            index_2 = index\n",
    "        high = data[index_2] & 0x1F\n",
    "        low = data[index_2 + 1] & 0x1F\n",
    "        values.append(high << 5 | low) \n",
    "        sync.append(True if (data[index_2] >> 5) == 1 else False)\n",
    "\n",
    "    sync = sync #sync = np.array(sync)\n",
    "    data = values #data = np.array(values)\n",
    "        \n",
    "    # print(self.sync, self.data, len(self.sync), len(self.data))\n",
    "    return sync, data"
   ]
  },
  {
   "cell_type": "code",
   "execution_count": 5,
   "metadata": {},
   "outputs": [
    {
     "name": "stdout",
     "output_type": "stream",
     "text": [
      "raw data - > data list, sync list\n",
      "1 번째 파일 완료\n",
      "2 번째 파일 완료\n",
      "3 번째 파일 완료\n",
      "4 번째 파일 완료\n",
      "5 번째 파일 완료\n",
      "6 번째 파일 완료\n",
      "7 번째 파일 완료\n",
      "8 번째 파일 완료\n",
      "9 번째 파일 완료\n",
      "10 번째 파일 완료\n",
      "11 번째 파일 완료\n",
      "12 번째 파일 완료\n",
      "13 번째 파일 완료\n",
      "14 번째 파일 완료\n",
      "15 번째 파일 완료\n",
      "16 번째 파일 완료\n",
      "17 번째 파일 완료\n",
      "18 번째 파일 완료\n",
      "19 번째 파일 완료\n",
      "20 번째 파일 완료\n",
      "21 번째 파일 완료\n",
      "22 번째 파일 완료\n",
      "23 번째 파일 완료\n",
      "24 번째 파일 완료\n",
      "25 번째 파일 완료\n",
      "26 번째 파일 완료\n",
      "27 번째 파일 완료\n"
     ]
    }
   ],
   "source": [
    "sync_list = [] # 모든 파일들의 싱크 정보 리스트\n",
    "data_list = [] # 모든 파일들의 데이터 정보 리스트\n",
    "print('raw data - > data list, sync list')\n",
    "for i in range(len(file_list) - 1):\n",
    "    src_path = path_dir + '/' + file_list[i]\n",
    "    data_file = open(src_path, \"rb\")\n",
    "    read_data = data_file.read()\n",
    "    sync, data = parse(read_data)\n",
    "    sync_list.append(sync)\n",
    "    data_list.append(data)\n",
    "    print(i + 1, '번째 파일 완료')"
   ]
  },
  {
   "cell_type": "code",
   "execution_count": 21,
   "metadata": {},
   "outputs": [
    {
     "name": "stdout",
     "output_type": "stream",
     "text": [
      "0 276 516\n",
      "1 0 556\n",
      "2 317 515\n",
      "3 356 510\n",
      "4 0 911\n",
      "5 72 531\n",
      "6 275 499\n",
      "7 285 504\n",
      "8 269 488\n",
      "9 286 509\n",
      "10 289 503\n",
      "11 246 490\n",
      "12 0 735\n",
      "13 290 479\n",
      "14 7 999\n",
      "15 401 464\n",
      "16 383 471\n",
      "17 383 478\n",
      "18 0 974\n",
      "19 358 430\n",
      "20 248 527\n",
      "21 326 527\n",
      "22 433 511\n",
      "23 412 511\n",
      "24 375 543\n",
      "25 495 528\n",
      "26 112 528\n"
     ]
    }
   ],
   "source": [
    "for i in range(len(file_list) - 1):\n",
    "    print(i, min(data_list[i]), max(data_list[i]))"
   ]
  },
  {
   "cell_type": "code",
   "execution_count": 24,
   "metadata": {},
   "outputs": [
    {
     "name": "stdout",
     "output_type": "stream",
     "text": [
      "1 번째 파일 완료, 길이: 896904 (20181009_100023_binary.txt)\n",
      "2 번째 파일 완료, 길이: 346619 (20181009_101055_binary.txt)\n",
      "3 번째 파일 완료, 길이: 238071 (20181009_101420_binary.txt)\n",
      "4 번째 파일 완료, 길이: 279501 (20181009_101635_binary.txt)\n",
      "5 번째 파일 완료, 길이: 209256 (20181009_102248_binary.txt)\n",
      "6 번째 파일 완료, 길이: 229316 (20181009_102508_binary.txt)\n",
      "7 번째 파일 완료, 길이: 235488 (20181009_102849_binary.txt)\n",
      "8 번째 파일 완료, 길이: 343957 (20181009_103752_binary.txt)\n",
      "9 번째 파일 완료, 길이: 285129 (20181009_104216_binary.txt)\n",
      "10 번째 파일 완료, 길이: 305603 (20181009_104446_binary.txt)\n",
      "11 번째 파일 완료, 길이: 291238 (20181009_105554_binary.txt)\n",
      "12 번째 파일 완료, 길이: 438147 (20181009_110458_binary.txt)\n",
      "13 번째 파일 완료, 길이: 244121 (20181009_110901_binary.txt)\n",
      "14 번째 파일 완료, 길이: 238248 (20181009_111450_binary.txt)\n",
      "15 번째 파일 완료, 길이: 405666 (20181009_111734_binary.txt)\n",
      "16 번째 파일 완료, 길이: 120993 (20181016_134334_binary.txt)\n",
      "17 번째 파일 완료, 길이: 537251 (20181016_134532_binary.txt)\n",
      "18 번째 파일 완료, 길이: 324563 (20181016_135124_binary.txt)\n",
      "19 번째 파일 완료, 길이: 337077 (20181016_142025_binary.txt)\n",
      "20 번째 파일 완료, 길이: 268558 (20181016_142531_binary.txt)\n",
      "21 번째 파일 완료, 길이: 985626 (20181114_135427_binary.txt)\n",
      "22 번째 파일 완료, 길이: 1271793 (20181114_140400_binary.txt)\n",
      "23 번째 파일 완료, 길이: 958427 (20181114_141258_binary.txt)\n",
      "24 번째 파일 완료, 길이: 695934 (20181114_142450_binary.txt)\n",
      "25 번째 파일 완료, 길이: 1012463 (20181114_175502_binary.txt)\n",
      "26 번째 파일 완료, 길이: 760867 (20181114_180324_binary.txt)\n",
      "27 번째 파일 완료, 길이: 914200 (20181114_181316_binary.txt)\n"
     ]
    }
   ],
   "source": [
    "data_list_true = [] # 모든 파일들의 데이터 정보(초단위가 아닌 바이트 스트림)\n",
    "for i in range(len(file_list) - 1):\n",
    "    sync = sync_list[i]\n",
    "    data = data_list[i]\n",
    "\n",
    "    true_data  = []\n",
    "    for index, tf_value in enumerate(sync):\n",
    "        if tf_value == True:\n",
    "            true_data.append(data[index])\n",
    "    \n",
    "    data_list_true.append(true_data)\n",
    "    print(i + 1, '번째 파일 완료, 길이:' ,len(data_list_true[i]), end='')\n",
    "    print(' ('+file_list[i]+')')\n",
    "    \n",
    "#앞의 리스트는 프리해줘도 좋음"
   ]
  },
  {
   "cell_type": "code",
   "execution_count": 28,
   "metadata": {},
   "outputs": [
    {
     "name": "stdout",
     "output_type": "stream",
     "text": [
      "0 276 515\n",
      "1 278 543\n",
      "2 317 515\n",
      "3 356 510\n",
      "4 305 514\n",
      "5 72 531\n",
      "6 275 499\n",
      "7 287 504\n",
      "8 269 488\n",
      "9 286 507\n",
      "10 289 503\n",
      "11 246 490\n",
      "12 274 484\n",
      "13 290 479\n",
      "14 167 510\n",
      "15 401 464\n",
      "16 383 471\n",
      "17 384 478\n",
      "18 169 438\n",
      "19 358 430\n",
      "20 248 527\n",
      "21 328 527\n",
      "22 433 511\n",
      "23 413 511\n",
      "24 375 540\n",
      "25 496 528\n",
      "26 296 528\n"
     ]
    }
   ],
   "source": [
    "min_list = []\n",
    "max_list = []\n",
    "for i in range(len(file_list) - 1):\n",
    "    print(i, min(data_list_true[i]), max(data_list_true[i]))\n",
    "    min_list.append(min(data_list_true[i]))\n",
    "    max_list.append(max(data_list_true[i]))"
   ]
  },
  {
   "cell_type": "code",
   "execution_count": 29,
   "metadata": {},
   "outputs": [
    {
     "name": "stdout",
     "output_type": "stream",
     "text": [
      "true값 중 최대값: 543\n",
      "true값 중 최소값: 72\n"
     ]
    }
   ],
   "source": [
    "print('true값 중 최대값:', max(max_list))\n",
    "print('true값 중 최소값:', min(min_list))"
   ]
  },
  {
   "cell_type": "code",
   "execution_count": null,
   "metadata": {},
   "outputs": [],
   "source": []
  }
 ],
 "metadata": {
  "kernelspec": {
   "display_name": "Python 3",
   "language": "python",
   "name": "python3"
  },
  "language_info": {
   "codemirror_mode": {
    "name": "ipython",
    "version": 3
   },
   "file_extension": ".py",
   "mimetype": "text/x-python",
   "name": "python",
   "nbconvert_exporter": "python",
   "pygments_lexer": "ipython3",
   "version": "3.6.8"
  }
 },
 "nbformat": 4,
 "nbformat_minor": 2
}
