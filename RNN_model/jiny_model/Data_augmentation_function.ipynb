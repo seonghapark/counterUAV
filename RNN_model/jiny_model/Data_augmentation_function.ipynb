{
 "cells": [
  {
   "cell_type": "markdown",
   "metadata": {},
   "source": [
    "## Data augmentation"
   ]
  },
  {
   "cell_type": "code",
   "execution_count": 1,
   "metadata": {},
   "outputs": [],
   "source": [
    "# Common imports\n",
    "import numpy as np\n",
    "import os, sys, glob  \n",
    "from os.path import isfile, isdir\n",
    "import librosa\n",
    "import librosa.core as core\n",
    "import scipy.io.wavfile as wavfile\n",
    "\n",
    "# To plot pretty figures\n",
    "import matplotlib\n",
    "import matplotlib.pyplot as plt\n",
    "from matplotlib.pyplot import specgram\n",
    "%matplotlib inline\n",
    "\n",
    "\n",
    "import warnings\n",
    "warnings.filterwarnings(\"ignore\")   # To rid of warnings \n",
    "\n",
    "os_sep = os.sep \n",
    "\n",
    "if sys.platform == 'win32':   # if windows \n",
    "    home = os.path.join('C:', os.sep, 'Users')      \n",
    "elif sys.platform == \"linux\" or sys.platform == \"linux2\" :    \n",
    "    home = os.path.expanduser(\"~\")   # home = os.getenv(\"HOME\")\n"
   ]
  },
  {
   "cell_type": "code",
   "execution_count": 2,
   "metadata": {},
   "outputs": [],
   "source": [
    "wav_repo = os.path.join(home, '채진영', 'Desktop', 'counterUAV', 'after_data')\n",
    "wav_data = glob.glob(os.path.join(wav_repo,'**','*.wav'), recursive=True)"
   ]
  },
  {
   "cell_type": "markdown",
   "metadata": {},
   "source": [
    "\n",
    "**1 : person\n",
    "2 : car\n",
    "3 : drone**\n"
   ]
  },
  {
   "cell_type": "code",
   "execution_count": 3,
   "metadata": {},
   "outputs": [
    {
     "data": {
      "text/plain": [
       "['C:\\\\Users\\\\채진영\\\\Desktop\\\\counterUAV\\\\after_data\\\\20181009_1_100023_person.wav',\n",
       " 'C:\\\\Users\\\\채진영\\\\Desktop\\\\counterUAV\\\\after_data\\\\20181009_1_101055_person.wav',\n",
       " 'C:\\\\Users\\\\채진영\\\\Desktop\\\\counterUAV\\\\after_data\\\\20181009_1_101420_person.wav',\n",
       " 'C:\\\\Users\\\\채진영\\\\Desktop\\\\counterUAV\\\\after_data\\\\20181009_1_101635_person.wav',\n",
       " 'C:\\\\Users\\\\채진영\\\\Desktop\\\\counterUAV\\\\after_data\\\\20181009_1_103752_car.wav',\n",
       " 'C:\\\\Users\\\\채진영\\\\Desktop\\\\counterUAV\\\\after_data\\\\20181009_1_104216_car.wav',\n",
       " 'C:\\\\Users\\\\채진영\\\\Desktop\\\\counterUAV\\\\after_data\\\\20181009_1_104446_car.wav',\n",
       " 'C:\\\\Users\\\\채진영\\\\Desktop\\\\counterUAV\\\\after_data\\\\20181009_2_102248_person.wav',\n",
       " 'C:\\\\Users\\\\채진영\\\\Desktop\\\\counterUAV\\\\after_data\\\\20181009_2_102508_person.wav',\n",
       " 'C:\\\\Users\\\\채진영\\\\Desktop\\\\counterUAV\\\\after_data\\\\20181009_2_102849_person.wav',\n",
       " 'C:\\\\Users\\\\채진영\\\\Desktop\\\\counterUAV\\\\after_data\\\\20181009_3_110458_person.wav',\n",
       " 'C:\\\\Users\\\\채진영\\\\Desktop\\\\counterUAV\\\\after_data\\\\20181009_3_110901_drone.wav',\n",
       " 'C:\\\\Users\\\\채진영\\\\Desktop\\\\counterUAV\\\\after_data\\\\20181009_3_111450_drone.wav',\n",
       " 'C:\\\\Users\\\\채진영\\\\Desktop\\\\counterUAV\\\\after_data\\\\20181009_3_111734_drone.wav',\n",
       " 'C:\\\\Users\\\\채진영\\\\Desktop\\\\counterUAV\\\\after_data\\\\20181016_1_134334_drone.wav',\n",
       " 'C:\\\\Users\\\\채진영\\\\Desktop\\\\counterUAV\\\\after_data\\\\20181016_1_135124_person.wav',\n",
       " 'C:\\\\Users\\\\채진영\\\\Desktop\\\\counterUAV\\\\after_data\\\\20181016_2_134532_car.wav',\n",
       " 'C:\\\\Users\\\\채진영\\\\Desktop\\\\counterUAV\\\\after_data\\\\20181016_3_142025_person.wav',\n",
       " 'C:\\\\Users\\\\채진영\\\\Desktop\\\\counterUAV\\\\after_data\\\\20181016_3_142531_drone.wav',\n",
       " 'C:\\\\Users\\\\채진영\\\\Desktop\\\\counterUAV\\\\after_data\\\\20181114_1_175502_drone.wav',\n",
       " 'C:\\\\Users\\\\채진영\\\\Desktop\\\\counterUAV\\\\after_data\\\\20181114_2_140400_car.wav',\n",
       " 'C:\\\\Users\\\\채진영\\\\Desktop\\\\counterUAV\\\\after_data\\\\20181114_2_141258_car.wav',\n",
       " 'C:\\\\Users\\\\채진영\\\\Desktop\\\\counterUAV\\\\after_data\\\\20181114_2_180324_drone.wav',\n",
       " 'C:\\\\Users\\\\채진영\\\\Desktop\\\\counterUAV\\\\after_data\\\\20181114_3_142450_person.wav']"
      ]
     },
     "execution_count": 3,
     "metadata": {},
     "output_type": "execute_result"
    }
   ],
   "source": [
    "sorted(wav_data) #11~14 18,19,24 drone"
   ]
  },
  {
   "cell_type": "code",
   "execution_count": 4,
   "metadata": {},
   "outputs": [],
   "source": [
    "wav_drone = []\n",
    "for i in [10,11,12,13,17,18,23] :\n",
    "    wav_drone.append(wav_data[i])"
   ]
  },
  {
   "cell_type": "code",
   "execution_count": 5,
   "metadata": {
    "scrolled": false
   },
   "outputs": [
    {
     "data": {
      "text/plain": [
       "['C:\\\\Users\\\\채진영\\\\Desktop\\\\counterUAV\\\\after_data\\\\20181009_3_110458_person.wav',\n",
       " 'C:\\\\Users\\\\채진영\\\\Desktop\\\\counterUAV\\\\after_data\\\\20181009_3_110901_drone.wav',\n",
       " 'C:\\\\Users\\\\채진영\\\\Desktop\\\\counterUAV\\\\after_data\\\\20181009_3_111450_drone.wav',\n",
       " 'C:\\\\Users\\\\채진영\\\\Desktop\\\\counterUAV\\\\after_data\\\\20181009_3_111734_drone.wav',\n",
       " 'C:\\\\Users\\\\채진영\\\\Desktop\\\\counterUAV\\\\after_data\\\\20181016_3_142025_person.wav',\n",
       " 'C:\\\\Users\\\\채진영\\\\Desktop\\\\counterUAV\\\\after_data\\\\20181016_3_142531_drone.wav',\n",
       " 'C:\\\\Users\\\\채진영\\\\Desktop\\\\counterUAV\\\\after_data\\\\20181114_3_142450_person.wav']"
      ]
     },
     "execution_count": 5,
     "metadata": {},
     "output_type": "execute_result"
    }
   ],
   "source": [
    "wav_drone"
   ]
  },
  {
   "cell_type": "markdown",
   "metadata": {},
   "source": [
    "calculate min and max of amplitude"
   ]
  },
  {
   "cell_type": "code",
   "execution_count": 13,
   "metadata": {},
   "outputs": [],
   "source": [
    "amplitude_all = []\n",
    "for i in range(len(wav_data)) :\n",
    "    drone, sr = librosa.load(wav_data[i], sr=5862)\n",
    "    amplitude_all.append(drone)"
   ]
  },
  {
   "cell_type": "code",
   "execution_count": 14,
   "metadata": {
    "scrolled": true
   },
   "outputs": [
    {
     "data": {
      "text/plain": [
       "24"
      ]
     },
     "execution_count": 14,
     "metadata": {},
     "output_type": "execute_result"
    }
   ],
   "source": [
    "len(amplitude_all)"
   ]
  },
  {
   "cell_type": "code",
   "execution_count": 15,
   "metadata": {
    "scrolled": true
   },
   "outputs": [
    {
     "name": "stdout",
     "output_type": "stream",
     "text": [
      "0.011169434 0.015655518\n",
      "0.01473999 0.015686035\n",
      "0.013214111 0.015411377\n",
      "0.0126953125 0.015563965\n",
      "0.010803223 0.014587402\n",
      "0.010528564 0.014190674\n",
      "0.010986328 0.014953613\n",
      "0.0 0.017852783\n",
      "0.009796143 0.016204834\n",
      "0.008392334 0.0152282715\n",
      "0.013793945 0.014892578\n",
      "0.008331299 0.014770508\n",
      "0.011138916 0.014587402\n",
      "0.0065307617 0.015411377\n",
      "0.012451172 0.013824463\n",
      "0.012023926 0.014129639\n",
      "0.00036621094 0.030700684\n",
      "0.01083374 0.013366699\n",
      "0.010925293 0.013122559\n",
      "0.00045776367 0.030761719\n",
      "0.00039672852 0.030731201\n",
      "0.00039672852 0.030731201\n",
      "0.00045776367 0.030761719\n",
      "0.00039672852 0.030731201\n"
     ]
    }
   ],
   "source": [
    "for i in range(len(wav_data)) :\n",
    "    print(min(amplitude_all[i]), max(amplitude_all[i]))"
   ]
  },
  {
   "cell_type": "markdown",
   "metadata": {},
   "source": [
    "calculate only drone min, max of amplitude "
   ]
  },
  {
   "cell_type": "code",
   "execution_count": 6,
   "metadata": {},
   "outputs": [],
   "source": [
    "amplitude_drone = []\n",
    "\n",
    "for i in range(len(wav_drone)) :\n",
    "    drone, sr = librosa.load(wav_drone[i], sr=5862)\n",
    "    amplitude_drone.append(drone)"
   ]
  },
  {
   "cell_type": "code",
   "execution_count": 8,
   "metadata": {
    "scrolled": true
   },
   "outputs": [
    {
     "data": {
      "text/plain": [
       "7"
      ]
     },
     "execution_count": 8,
     "metadata": {},
     "output_type": "execute_result"
    }
   ],
   "source": [
    "len(amplitude_drone)"
   ]
  },
  {
   "cell_type": "code",
   "execution_count": 11,
   "metadata": {
    "scrolled": true
   },
   "outputs": [
    {
     "name": "stdout",
     "output_type": "stream",
     "text": [
      "0.013793945 0.014892578\n",
      "0.008331299 0.014770508\n",
      "0.011138916 0.014587402\n",
      "0.0065307617 0.015411377\n",
      "0.01083374 0.013366699\n",
      "0.010925293 0.013122559\n",
      "0.00039672852 0.030731201\n"
     ]
    }
   ],
   "source": [
    "for i in range(len(wav_drone)) :\n",
    "    print(min(amplitude_drone[i]), max(amplitude_drone[i]))"
   ]
  },
  {
   "cell_type": "markdown",
   "metadata": {},
   "source": [
    "distribution of amplitude"
   ]
  },
  {
   "cell_type": "code",
   "execution_count": 44,
   "metadata": {},
   "outputs": [
    {
     "data": {
      "text/plain": [
       "<matplotlib.collections.PathCollection at 0x139a6809080>"
      ]
     },
     "execution_count": 44,
     "metadata": {},
     "output_type": "execute_result"
    },
    {
     "data": {
      "image/png": "[encoded data removed]",
      "text/plain": [
       "<matplotlib.figure.Figure at 0x139a6822978>"
      ]
     },
     "metadata": {},
     "output_type": "display_data"
    }
   ],
   "source": [
    "plt.figure(figsize=(13,13))\n",
    "plt.scatter(np.arange(len(drone_1[:1000])),drone_1[:1000],s=1)"
   ]
  },
  {
   "cell_type": "markdown",
   "metadata": {},
   "source": [
    "changing frequency"
   ]
  },
  {
   "cell_type": "code",
   "execution_count": 36,
   "metadata": {},
   "outputs": [],
   "source": [
    "def manuipulate_pitch(data, sampling_rate, pitch_factor) :\n",
    "    # data = librosa.feature.mfcc(data, sr=sampling_rate, n_mfcc=20)\n",
    "    y_shift = librosa.effects.pitch_shift(data, sampling_rate, pitch_factor)\n",
    "    \n",
    "    return y_shift "
   ]
  },
  {
   "cell_type": "markdown",
   "metadata": {},
   "source": [
    "time stretching\n",
    "- FFT로 stretching 할건지 아니면 original wav로 stretching 할건지 정해야함"
   ]
  },
  {
   "cell_type": "code",
   "execution_count": 31,
   "metadata": {},
   "outputs": [],
   "source": [
    "def manipulate_time(data, speed_factor) : # First, original wav\n",
    "    # data = librosa.feature.mfcc(data, sr=5862, n_mfcc=20)\n",
    "    y_stretch = librosa.effects.time_stretch(data, speed_factor)\n",
    "    \n",
    "    return y_stretch"
   ]
  },
  {
   "cell_type": "markdown",
   "metadata": {},
   "source": [
    "noise adding"
   ]
  },
  {
   "cell_type": "code",
   "execution_count": 38,
   "metadata": {},
   "outputs": [],
   "source": [
    "from pydub import AudioSegment\n",
    "\n",
    "# setting random seed\n",
    "\n",
    "np.random.seed(42)\n",
    "\n",
    "def manipulate_noise(data, others, path) :\n",
    "    rnd_index = np.random.randint(0, len(others), 1)\n",
    "    noise = others[rnd_index]\n",
    "    wav = AudioSegment.from_file(data, format='wav')\n",
    "    output = wav.overlay(noise, loop=True)\n",
    "    \n",
    "    return output"
   ]
  },
  {
   "cell_type": "markdown",
   "metadata": {},
   "source": [
    "plotting before and after shifting"
   ]
  },
  {
   "cell_type": "code",
   "execution_count": 26,
   "metadata": {},
   "outputs": [],
   "source": [
    "from scipy.io.wavfile import read\n",
    "\n",
    "def plotting(data) :\n",
    "    (sr, x) = read(data)\n",
    "    plt.figure(figsize=(13, 9))\n",
    "    plt.plot(x)"
   ]
  },
  {
   "cell_type": "code",
   "execution_count": 27,
   "metadata": {
    "scrolled": true
   },
   "outputs": [
    {
     "data": {
      "image/png": "[encoded data removed]",
      "text/plain": [
       "<matplotlib.figure.Figure at 0x196ed5a2048>"
      ]
     },
     "metadata": {},
     "output_type": "display_data"
    }
   ],
   "source": [
    "plotting(wav_data[0])"
   ]
  },
  {
   "cell_type": "code",
   "execution_count": 28,
   "metadata": {},
   "outputs": [
    {
     "data": {
      "image/png": "[encoded data removed]",
      "text/plain": [
       "<matplotlib.figure.Figure at 0x196eeabaf60>"
      ]
     },
     "metadata": {},
     "output_type": "display_data"
    }
   ],
   "source": [
    "plotting(wav_data[1])"
   ]
  },
  {
   "cell_type": "code",
   "execution_count": null,
   "metadata": {},
   "outputs": [],
   "source": []
  }
 ],
 "metadata": {
  "kernelspec": {
   "display_name": "Python 3",
   "language": "python",
   "name": "python3"
  },
  "language_info": {
   "codemirror_mode": {
    "name": "ipython",
    "version": 3
   },
   "file_extension": ".py",
   "mimetype": "text/x-python",
   "name": "python",
   "nbconvert_exporter": "python",
   "pygments_lexer": "ipython3",
   "version": "3.6.4"
  }
 },
 "nbformat": 4,
 "nbformat_minor": 2
}
